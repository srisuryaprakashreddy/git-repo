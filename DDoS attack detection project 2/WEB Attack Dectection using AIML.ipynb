{
  "cells": [
    {
      "cell_type": "code",
      "execution_count": 1,
      "metadata": {
        "id": "WP1x12--sTCb"
      },
      "outputs": [],
      "source": [
        "import pandas as pd\n",
        "import numpy as np\n",
        "from sklearn.model_selection import train_test_split\n",
        "from sklearn.preprocessing import StandardScaler\n",
        "from sklearn.svm import SVC\n",
        "from sklearn.metrics import accuracy_score\n",
        "from sklearn.neighbors import KNeighborsClassifier\n",
        "from sklearn.naive_bayes import GaussianNB\n",
        "from sklearn.ensemble import RandomForestClassifier\n",
        "import arff as arf"
      ]
    },
    {
      "cell_type": "code",
      "execution_count": 2,
      "metadata": {
        "id": "_wRWv0HxvmqV"
      },
      "outputs": [],
      "source": [
        "#!pip install liac-arff"
      ]
    },
    {
      "cell_type": "code",
      "execution_count": 3,
      "metadata": {
        "colab": {
          "base_uri": "https://localhost:8080/",
          "height": 383
        },
        "id": "ig-QetPFsnhm",
        "outputId": "070154d5-42e2-429d-da34-dafa782847ab"
      },
      "outputs": [],
      "source": [
        " file = open(\"DDoS attack Data.arff\")\n",
        " decoder=arf.ArffDecoder()\n",
        " data=decoder.decode(file,encode_nominal=True)"
      ]
    },
    {
      "cell_type": "code",
      "execution_count": 4,
      "metadata": {
        "id": "mcyoXOfFtDRp"
      },
      "outputs": [],
      "source": [
        "vals=[val[0:-1] for val in data['data']]\n",
        "labels=[lab[-1] for lab in data['data']]"
      ]
    },
    {
      "cell_type": "code",
      "execution_count": 5,
      "metadata": {
        "id": "UYZS5csGxLQp"
      },
      "outputs": [],
      "source": [
        "da=set(labels)\n",
        "brac=600\n",
        "templ=[]\n",
        "tempd=[]\n",
        "for i in da:\n",
        "    coun=0\n",
        "    while coun<brac:\n",
        "        for j in range(len(labels)):\n",
        "            if labels[j]:\n",
        "                templ.append(labels[j])\n",
        "                tempd.append(vals[j])\n",
        "                coun+=1\n",
        "            if coun==brac:\n",
        "                break\n",
        "vals=tempd\n",
        "labels=templ"
      ]
    },
    {
      "cell_type": "code",
      "execution_count": 6,
      "metadata": {
        "id": "8f376PXmxv00"
      },
      "outputs": [
        {
          "name": "stdout",
          "output_type": "stream",
          "text": [
            "3000\n"
          ]
        }
      ],
      "source": [
        "l=len(vals)\n",
        "print (l)"
      ]
    },
    {
      "cell_type": "code",
      "execution_count": 7,
      "metadata": {
        "id": "MJKrUAQOx4MM"
      },
      "outputs": [],
      "source": [
        "X_train,X_test,Y_train,Y_test=train_test_split(vals,labels,stratify=labels, test_size=0.2,random_state=0)\n"
      ]
    },
    {
      "cell_type": "code",
      "execution_count": 8,
      "metadata": {
        "id": "jhD8dZJix-vf"
      },
      "outputs": [],
      "source": [
        "scaler=StandardScaler()\n",
        "x_train=scaler.fit_transform(X_train)\n",
        "x_test=scaler.transform(X_test)\n",
        "y_train=np.array(Y_train)\n",
        "y_test=np.array(Y_test)"
      ]
    },
    {
      "cell_type": "code",
      "execution_count": 9,
      "metadata": {
        "id": "Qe3YLmqWyH8Q"
      },
      "outputs": [
        {
          "data": {
            "text/plain": [
              "SVC(gamma='auto', kernel='sigmoid')"
            ]
          },
          "execution_count": 9,
          "metadata": {},
          "output_type": "execute_result"
        }
      ],
      "source": [
        "model=SVC (kernel='sigmoid', gamma='auto')\n",
        "model.fit(x_train,y_train)"
      ]
    },
    {
      "cell_type": "code",
      "execution_count": 10,
      "metadata": {
        "id": "HVSR7vFRyY1g"
      },
      "outputs": [],
      "source": [
        "y_pred=model.predict(x_test)\n"
      ]
    },
    {
      "cell_type": "code",
      "execution_count": 11,
      "metadata": {
        "id": "XPgvHYthyZwl"
      },
      "outputs": [
        {
          "name": "stdout",
          "output_type": "stream",
          "text": [
            "89.16666666666667 %\n"
          ]
        }
      ],
      "source": [
        "print((accuracy_score(y_pred,y_test))*100, \"%\")\n"
      ]
    },
    {
      "cell_type": "code",
      "execution_count": 12,
      "metadata": {
        "id": "ZVxgHsbvkHze"
      },
      "outputs": [
        {
          "data": {
            "text/plain": [
              "KNeighborsClassifier()"
            ]
          },
          "execution_count": 12,
          "metadata": {},
          "output_type": "execute_result"
        }
      ],
      "source": [
        "model1=KNeighborsClassifier(n_neighbors=5)\n",
        "model1.fit(x_train,y_train)"
      ]
    },
    {
      "cell_type": "code",
      "execution_count": 13,
      "metadata": {
        "id": "78udkPhQkbQz"
      },
      "outputs": [],
      "source": [
        "y_pred1=model1.predict(x_test)"
      ]
    },
    {
      "cell_type": "code",
      "execution_count": 14,
      "metadata": {
        "id": "2piGeMewkrkE"
      },
      "outputs": [
        {
          "name": "stdout",
          "output_type": "stream",
          "text": [
            "98.66666666666667 %\n"
          ]
        }
      ],
      "source": [
        "print(accuracy_score(y_pred1,y_test)*100,\"%\")"
      ]
    },
    {
      "cell_type": "code",
      "execution_count": 15,
      "metadata": {
        "id": "g_JJYgrxlBJt"
      },
      "outputs": [
        {
          "data": {
            "text/plain": [
              "GaussianNB()"
            ]
          },
          "execution_count": 15,
          "metadata": {},
          "output_type": "execute_result"
        }
      ],
      "source": [
        "model2=GaussianNB()\n",
        "model2.fit(x_train,y_train)"
      ]
    },
    {
      "cell_type": "code",
      "execution_count": 16,
      "metadata": {
        "id": "xzwK-oF-lOTM"
      },
      "outputs": [],
      "source": [
        "y_pred2=model2.predict(x_test)"
      ]
    },
    {
      "cell_type": "code",
      "execution_count": 17,
      "metadata": {
        "id": "ibPkbqDqlWQF"
      },
      "outputs": [
        {
          "name": "stdout",
          "output_type": "stream",
          "text": [
            "89.33333333333333 %\n"
          ]
        }
      ],
      "source": [
        "print((accuracy_score(y_pred2,y_test))*100,\"%\")"
      ]
    },
    {
      "cell_type": "code",
      "execution_count": 18,
      "metadata": {
        "id": "Eme8Jsc9yo1d"
      },
      "outputs": [],
      "source": [
        "train_x, val_x, train_y, val_y=train_test_split(x_train,y_train, stratify=y_train, test_size=0.2, random_state=0)\n"
      ]
    },
    {
      "cell_type": "code",
      "execution_count": 19,
      "metadata": {
        "id": "l_V9IHgEyp_o"
      },
      "outputs": [
        {
          "name": "stdout",
          "output_type": "stream",
          "text": [
            "(2400, 27) (600, 27)\n"
          ]
        }
      ],
      "source": [
        "print(x_train.shape,x_test.shape)\n"
      ]
    },
    {
      "cell_type": "code",
      "execution_count": 20,
      "metadata": {
        "id": "aY_CefDLnvAY"
      },
      "outputs": [],
      "source": [
        "columns=['SRC_ADD', 'DES_ADD', 'PKT_ID', 'FROM_NODE', 'TO_NODE', 'PKT_TYPE',\n",
        "'PKT_SIZE','FLAGS', 'FID', 'SEQ_NUMBER', 'NUMBER_OF_PKT',\n",
        " 'NUMBER_OF_BYTE', 'NODE_NAME_FROM', 'NODE_NAME_TO', 'PKT_IN', 'PKT_OUT',\n",
        " 'PKT_R', 'PKT_DELAY_NODE', 'PKT_RATE', 'BYTE_RATE', 'PKT_AVG_SIZE',\n",
        " 'UTILIZATION', 'PKT_DELAY', 'PKT_SEND_TIME', 'PKT_RESEVED_TIME',\n",
        " 'FIRST_PKT_SENT', 'LAST_PKT_RESEVED']"
      ]
    },
    {
      "cell_type": "code",
      "execution_count": 21,
      "metadata": {
        "id": "ELN8gGsHmiGJ"
      },
      "outputs": [],
      "source": [
        "model1=SVC(kernel='sigmoid',gamma='auto')\n",
        "model1.fit(train_x,train_y)\n",
        "y_val_pred1=model1.predict(val_x)\n",
        "y_val_pred1=pd.DataFrame(y_val_pred1)\n",
        "y_test_pred1=model1.predict(x_test)\n",
        "y_test_pred1=pd.DataFrame(y_test_pred1)"
      ]
    },
    {
      "cell_type": "code",
      "execution_count": 22,
      "metadata": {
        "id": "DCdF5HE-p60R"
      },
      "outputs": [],
      "source": [
        "model2=KNeighborsClassifier(n_neighbors=5)\n",
        "model2.fit(train_x,train_y)\n",
        "y_val_pred2=model2.predict(val_x)\n",
        "y_val_pred2=pd.DataFrame(y_val_pred2)\n",
        "y_test_pred2=model2.predict(x_test)\n",
        "y_test_pred2=pd.DataFrame(y_test_pred2)"
      ]
    },
    {
      "cell_type": "code",
      "execution_count": 23,
      "metadata": {
        "id": "4zihNxQZp7ED"
      },
      "outputs": [],
      "source": [
        "model3=GaussianNB()\n",
        "model3.fit(train_x,train_y)\n",
        "y_val_pred3=model3.predict(val_x)\n",
        "y_val_pred3=pd.DataFrame(y_val_pred3)\n",
        "y_test_pred3=model1.predict(x_test)\n",
        "y_test_pred3=pd.DataFrame(y_test_pred3)"
      ]
    },
    {
      "cell_type": "code",
      "execution_count": 24,
      "metadata": {
        "id": "dpzl-m-2y9jP"
      },
      "outputs": [],
      "source": [
        "val_input=pd.concat([pd.DataFrame(val_x,columns=columns),y_val_pred1,y_val_pred2,y_val_pred3],axis=1)\n",
        "test_input=pd.concat([pd.DataFrame(x_test,columns=columns),y_test_pred1,y_test_pred2,y_test_pred3],axis=1)"
      ]
    },
    {
      "cell_type": "code",
      "execution_count": 25,
      "metadata": {
        "id": "hvZZw2NrrXdM"
      },
      "outputs": [
        {
          "name": "stderr",
          "output_type": "stream",
          "text": [
            "c:\\Users\\ramra\\AppData\\Local\\Programs\\Python\\Python310\\lib\\site-packages\\sklearn\\utils\\validation.py:1688: FutureWarning: Feature names only support names that are all strings. Got feature names with dtypes: ['int', 'str']. An error will be raised in 1.2.\n",
            "  warnings.warn(\n"
          ]
        },
        {
          "data": {
            "text/plain": [
              "SVC(gamma='auto', kernel='sigmoid')"
            ]
          },
          "execution_count": 25,
          "metadata": {},
          "output_type": "execute_result"
        }
      ],
      "source": [
        "mode=RandomForestClassifier(n_estimators=200)\n",
        "model.fit(val_input,val_y)"
      ]
    },
    {
      "cell_type": "code",
      "execution_count": 26,
      "metadata": {
        "id": "lIDwDAs7rkjR"
      },
      "outputs": [
        {
          "name": "stdout",
          "output_type": "stream",
          "text": [
            "88.66666666666667 %\n"
          ]
        },
        {
          "name": "stderr",
          "output_type": "stream",
          "text": [
            "c:\\Users\\ramra\\AppData\\Local\\Programs\\Python\\Python310\\lib\\site-packages\\sklearn\\utils\\validation.py:1688: FutureWarning: Feature names only support names that are all strings. Got feature names with dtypes: ['int', 'str']. An error will be raised in 1.2.\n",
            "  warnings.warn(\n"
          ]
        }
      ],
      "source": [
        "print((model.score(test_input,y_test))*100,\"%\")"
      ]
    }
  ],
  "metadata": {
    "colab": {
      "name": "Copy of independent project 2",
      "provenance": []
    },
    "kernelspec": {
      "display_name": "Python 3.10.5 64-bit",
      "language": "python",
      "name": "python3"
    },
    "language_info": {
      "codemirror_mode": {
        "name": "ipython",
        "version": 3
      },
      "file_extension": ".py",
      "mimetype": "text/x-python",
      "name": "python",
      "nbconvert_exporter": "python",
      "pygments_lexer": "ipython3",
      "version": "3.10.5"
    },
    "vscode": {
      "interpreter": {
        "hash": "2af850c6eb439ed635d6763a891559b3c346573189e14c4c3f58718909349b07"
      }
    }
  },
  "nbformat": 4,
  "nbformat_minor": 0
}
